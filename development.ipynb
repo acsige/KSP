{
 "cells": [
  {
   "cell_type": "code",
   "execution_count": null,
   "metadata": {},
   "outputs": [],
   "source": [
    "import numpy as np\n",
    "import matplotlib.pyplot as plt\n",
    "import KSP_module as ksp\n",
    "from KSP_module import Kerbol, Kerbin, Duna, Eve, Mun, Minmus\n",
    "\n",
    "HKO = ksp.orbit(Kerbin, min_alt = 70000.1, e=0.99)\n",
    "t_leave = HKO.calc_soi_leave_time(0)\n",
    "\n",
    "fig,ax = ksp.initialize_plot()\n",
    "ax = ksp.add_soi_to_plot(ax, Kerbin, 0, True, True)\n",
    "ax = ksp.add_orbit_to_plot(ax, HKO)\n",
    "ax = ksp.add_orbit_point_to_plot(ax, HKO, t_leave)\n",
    "print(HKO.primary.soi - HKO.calc_polar(t_leave)[0])"
   ]
  },
  {
   "cell_type": "code",
   "execution_count": null,
   "metadata": {},
   "outputs": [],
   "source": [
    "LKO = ksp.orbit(Kerbin, min_alt = 70000.1, e=0)\n",
    "transfer3 = ksp.calc_window(LKO, Mun.orbit, 0)\n",
    "fig,ax = ksp.plot_hohmann_orbit(LKO, Mun, transfer3)\n",
    "\n",
    "t_soi, new_primary = LKO.calc_soi_change(transfer3.t_launch)\n",
    "\n",
    "print(transfer3.t_launch)\n",
    "ax = ksp.add_soi_to_plot(ax, Mun, t_soi)\n",
    "ax = ksp.add_planetary_body_to_plot(ax, Mun, transfer3.t_launch)\n",
    "ax = ksp.add_planetary_body_to_plot(ax, Kerbin, transfer3.t_launch, True)\n",
    "plt.show()\n",
    "print([ksp.pretty_date(transfer3.t_launch), transfer3.t_launch])"
   ]
  },
  {
   "cell_type": "markdown",
   "metadata": {},
   "source": []
  },
  {
   "cell_type": "code",
   "execution_count": 1,
   "metadata": {},
   "outputs": [
    {
     "name": "stdout",
     "output_type": "stream",
     "text": [
      "KSP module loaded\n",
      "All tests passed\n"
     ]
    }
   ],
   "source": [
    "import KSP_module as ksp\n",
    "from KSP_module import Kerbol, Kerbin, Duna, Eve, Mun, Minmus, Moho, Jool, Dres\n",
    "transfer = ksp.calc_window(Kerbin.orbit, Duna.orbit, 0)"
   ]
  },
  {
   "cell_type": "code",
   "execution_count": 2,
   "metadata": {},
   "outputs": [
    {
     "name": "stdout",
     "output_type": "stream",
     "text": [
      "Y3 D208 04:29:42\n",
      "637.5165948561024\n"
     ]
    }
   ],
   "source": [
    "return_transfer = ksp.calc_window(Duna.orbit, Kerbin.orbit, transfer.t_arrival)\n",
    "print(ksp.pretty_date(return_transfer.t_launch))\n",
    "LDO = ksp.orbit(Duna, min_alt = Duna.atmo_height+.1, e=0)\n",
    "print(ksp.calc_hohmann_dv(LDO, return_transfer))"
   ]
  }
 ],
 "metadata": {
  "kernelspec": {
   "display_name": "313",
   "language": "python",
   "name": "python3"
  },
  "language_info": {
   "codemirror_mode": {
    "name": "ipython",
    "version": 3
   },
   "file_extension": ".py",
   "mimetype": "text/x-python",
   "name": "python",
   "nbconvert_exporter": "python",
   "pygments_lexer": "ipython3",
   "version": "3.13.0"
  }
 },
 "nbformat": 4,
 "nbformat_minor": 2
}
