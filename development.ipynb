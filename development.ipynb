{
 "cells": [
  {
   "cell_type": "code",
   "execution_count": null,
   "metadata": {},
   "outputs": [],
   "source": [
    "import numpy as np\n",
    "import matplotlib.pyplot as plt\n",
    "import KSP_module as ksp\n",
    "from KSP_module import Kerbol, Kerbin, Duna, Eve, Mun, Minmus\n",
    "\n",
    "HKO = ksp.orbit(Kerbin, min_alt = 70000.1, e=0.99)\n",
    "t_leave = HKO.calc_soi_leave_time(0)\n",
    "\n",
    "fig,ax = ksp.initialize_plot()\n",
    "ax = ksp.add_soi_to_plot(ax, Kerbin, 0, True, True)\n",
    "ax = ksp.add_orbit_to_plot(ax, HKO)\n",
    "ax = ksp.add_orbit_point_to_plot(ax, HKO, t_leave)\n",
    "print(HKO.primary.soi - HKO.calc_polar(t_leave)[0])"
   ]
  },
  {
   "cell_type": "code",
   "execution_count": null,
   "metadata": {},
   "outputs": [],
   "source": [
    "LKO = ksp.orbit(Kerbin, min_alt = 70000.1, e=0)\n",
    "transfer3 = ksp.calc_window(LKO, Mun.orbit, 0)\n",
    "fig,ax = ksp.plot_hohmann_orbit(LKO, Mun, transfer3)\n",
    "\n",
    "t_soi, new_primary = LKO.calc_soi_change(transfer3.t_launch)\n",
    "\n",
    "print(transfer3.t_launch)\n",
    "ax = ksp.add_soi_to_plot(ax, Mun, t_soi)\n",
    "ax = ksp.add_planetary_body_to_plot(ax, Mun, transfer3.t_launch)\n",
    "ax = ksp.add_planetary_body_to_plot(ax, Kerbin, transfer3.t_launch, True)\n",
    "plt.show()\n",
    "print([ksp.pretty_date(transfer3.t_launch), transfer3.t_launch])"
   ]
  },
  {
   "cell_type": "code",
   "execution_count": null,
   "metadata": {},
   "outputs": [],
   "source": [
    "def calc_soi_change(self, t_start):\n",
    "    \"\"\"Calculate the time of SOI change and the new primary\n",
    "    Args:\n",
    "        t0: start time of calculation\n",
    "    Returns:\n",
    "        t_change: time of SOI change\n",
    "        new_primary: new primary body\"\"\"\n",
    "    \n",
    "    # if the orbit is  hyperbolic or highly eccentric, \n",
    "    # calculate time when leaving primary SOI \n",
    "    if self.check_hyperbolic() or self.ra > self.primary.soi:\n",
    "        t_end = t_start + self.calc_soi_leave_time()\n",
    "    # if elliptic and fully inside SOI, calc is for one orbit starting at t0\n",
    "    else:\n",
    "        t_end = t_start + self.T\n",
    "    \n",
    "    # calculate minimum distance to all secondaries during transit time\n",
    "    closest_secondary = None\n",
    "    t_soi_change = t_end\n",
    "    for secondary in self.primary.secondaries:\n",
    "        t_min,d_min = self.calc_min_distance(secondary, t_start, t_end)\n",
    "        if d_min < secondary.soi:\n",
    "            t_soi, d_soi = self.calc_soi_enter(secondary, t_start, t_min)\n",
    "            if t_soi < t_soi_change:\n",
    "                t_soi_change = t_soi\n",
    "                closest_secondary = secondary\n",
    "    return t_soi_change, closest_secondary\n",
    "\n",
    "def calc_soi_enter(self, secondary, t_start, t_min):\n",
    "    \"\"\"Calculate the time of entering a secondary's SOI\n",
    "    Args:\n",
    "        secondary: secondary body\n",
    "        t_start: start time of calculation\n",
    "        t_min: time of minimum distance to secondary\n",
    "    Returns:\n",
    "        t_soi: time of SOI change\n",
    "    \"\"\"\n",
    "    \n",
    "    t1 = t_start\n",
    "    t2 = t_min\n",
    "    while abs(t2-t1) > 1:\n",
    "        t = (t1 + t2)/2\n",
    "        if self.calc_distance_to(secondary, t) < secondary.soi:\n",
    "            t2 = t\n",
    "        else:\n",
    "            t1 = t\n",
    "    return t\n"
   ]
  },
  {
   "cell_type": "markdown",
   "metadata": {},
   "source": []
  },
  {
   "cell_type": "code",
   "execution_count": 1,
   "metadata": {},
   "outputs": [
    {
     "name": "stdout",
     "output_type": "stream",
     "text": [
      "KSP module loaded\n"
     ]
    },
    {
     "ename": "KeyboardInterrupt",
     "evalue": "",
     "output_type": "error",
     "traceback": [
      "\u001b[0;31m---------------------------------------------------------------------------\u001b[0m",
      "\u001b[0;31mKeyboardInterrupt\u001b[0m                         Traceback (most recent call last)",
      "Cell \u001b[0;32mIn[1], line 1\u001b[0m\n\u001b[0;32m----> 1\u001b[0m \u001b[38;5;28;01mimport\u001b[39;00m \u001b[38;5;21;01mKSP_module\u001b[39;00m \u001b[38;5;28;01mas\u001b[39;00m \u001b[38;5;21;01mksp\u001b[39;00m\n",
      "File \u001b[0;32m~/Python/KSP/KSP_module/__init__.py:13\u001b[0m\n\u001b[1;32m     11\u001b[0m max_error \u001b[38;5;241m=\u001b[39m \u001b[38;5;241m2\u001b[39m\u001b[38;5;241m*\u001b[39mMISS_TOL\n\u001b[1;32m     12\u001b[0m LKO \u001b[38;5;241m=\u001b[39m orbit(Kerbin, min_alt \u001b[38;5;241m=\u001b[39m \u001b[38;5;241m70000.1\u001b[39m, e\u001b[38;5;241m=\u001b[39m\u001b[38;5;241m0\u001b[39m)\n\u001b[0;32m---> 13\u001b[0m transfer1 \u001b[38;5;241m=\u001b[39m \u001b[43mcalc_window\u001b[49m\u001b[43m(\u001b[49m\u001b[43mKerbin\u001b[49m\u001b[38;5;241;43m.\u001b[39;49m\u001b[43morbit\u001b[49m\u001b[43m,\u001b[49m\u001b[43m \u001b[49m\u001b[43mDuna\u001b[49m\u001b[38;5;241;43m.\u001b[39;49m\u001b[43morbit\u001b[49m\u001b[43m,\u001b[49m\u001b[43m \u001b[49m\u001b[38;5;241;43m0\u001b[39;49m\u001b[43m)\u001b[49m\n\u001b[1;32m     14\u001b[0m transfer2 \u001b[38;5;241m=\u001b[39m calc_window(Kerbin\u001b[38;5;241m.\u001b[39morbit, Eve\u001b[38;5;241m.\u001b[39morbit, \u001b[38;5;241m0\u001b[39m)\n\u001b[1;32m     15\u001b[0m transfer3 \u001b[38;5;241m=\u001b[39m calc_window(LKO, Mun\u001b[38;5;241m.\u001b[39morbit, \u001b[38;5;241m0\u001b[39m)\n",
      "File \u001b[0;32m~/Python/KSP/KSP_module/hohmann.py:91\u001b[0m, in \u001b[0;36mcalc_window\u001b[0;34m(src_orbit, dst_orbit, t0)\u001b[0m\n\u001b[1;32m     83\u001b[0m \u001b[38;5;66;03m# Real iteration\u001b[39;00m\n\u001b[1;32m     84\u001b[0m \u001b[38;5;28;01mwhile\u001b[39;00m \u001b[38;5;28mabs\u001b[39m(t_miss) \u001b[38;5;241m>\u001b[39m MISS_TOL:\n\u001b[1;32m     85\u001b[0m \n\u001b[1;32m     86\u001b[0m     \u001b[38;5;66;03m# possible solution: wrap around by adding the window period\u001b[39;00m\n\u001b[0;32m   (...)\u001b[0m\n\u001b[1;32m     89\u001b[0m     \n\u001b[1;32m     90\u001b[0m     \u001b[38;5;66;03m# recalculate Hohmann orbit\u001b[39;00m\n\u001b[0;32m---> 91\u001b[0m     Hohmann \u001b[38;5;241m=\u001b[39m \u001b[43mcalc_hohmann\u001b[49m\u001b[43m(\u001b[49m\u001b[43msrc_orbit\u001b[49m\u001b[43m,\u001b[49m\u001b[43m \u001b[49m\u001b[43mdst_orbit\u001b[49m\u001b[43m,\u001b[49m\u001b[43m \u001b[49m\u001b[43mt_launch\u001b[49m\u001b[43m)\u001b[49m\n\u001b[1;32m     92\u001b[0m     \u001b[38;5;66;03m# calculate timing error\u001b[39;00m\n\u001b[1;32m     93\u001b[0m     ang_h \u001b[38;5;241m=\u001b[39m np\u001b[38;5;241m.\u001b[39mmod(Hohmann\u001b[38;5;241m.\u001b[39mcalc_polar(Hohmann\u001b[38;5;241m.\u001b[39mt_arrival)[\u001b[38;5;241m1\u001b[39m], \u001b[38;5;241m2\u001b[39m\u001b[38;5;241m*\u001b[39mnp\u001b[38;5;241m.\u001b[39mpi)\n",
      "File \u001b[0;32m~/Python/KSP/KSP_module/hohmann.py:49\u001b[0m, in \u001b[0;36mcalc_hohmann\u001b[0;34m(src_orbit, dst_orbit, t0)\u001b[0m\n\u001b[1;32m     47\u001b[0m kwargs[\u001b[38;5;124m'\u001b[39m\u001b[38;5;124mt0\u001b[39m\u001b[38;5;124m'\u001b[39m] \u001b[38;5;241m=\u001b[39m t0\n\u001b[1;32m     48\u001b[0m kwargs[\u001b[38;5;124m'\u001b[39m\u001b[38;5;124mnu0\u001b[39m\u001b[38;5;124m'\u001b[39m] \u001b[38;5;241m=\u001b[39m ang_offset\n\u001b[0;32m---> 49\u001b[0m result_orbit \u001b[38;5;241m=\u001b[39m \u001b[43morbit\u001b[49m\u001b[43m(\u001b[49m\u001b[43mprimary\u001b[49m\u001b[43m,\u001b[49m\u001b[43m \u001b[49m\u001b[38;5;241;43m*\u001b[39;49m\u001b[38;5;241;43m*\u001b[39;49m\u001b[43mkwargs\u001b[49m\u001b[43m)\u001b[49m\n\u001b[1;32m     51\u001b[0m result_orbit\u001b[38;5;241m.\u001b[39mt_launch \u001b[38;5;241m=\u001b[39m t0\n\u001b[1;32m     52\u001b[0m result_orbit\u001b[38;5;241m.\u001b[39mt_arrival \u001b[38;5;241m=\u001b[39m t0 \u001b[38;5;241m+\u001b[39m result_orbit\u001b[38;5;241m.\u001b[39mT\u001b[38;5;241m/\u001b[39m\u001b[38;5;241m2\u001b[39m\n",
      "File \u001b[0;32m~/Python/KSP/KSP_module/main.py:97\u001b[0m, in \u001b[0;36morbit.__init__\u001b[0;34m(self, primary, **kwargs)\u001b[0m\n\u001b[1;32m     94\u001b[0m \u001b[38;5;28mself\u001b[39m\u001b[38;5;241m.\u001b[39mis_elliptic \u001b[38;5;241m=\u001b[39m \u001b[38;5;28mself\u001b[39m\u001b[38;5;241m.\u001b[39mcheck_elliptic()\n\u001b[1;32m     95\u001b[0m \u001b[38;5;28mself\u001b[39m\u001b[38;5;241m.\u001b[39mis_hohmann \u001b[38;5;241m=\u001b[39m \u001b[38;5;28;01mFalse\u001b[39;00m \u001b[38;5;66;03m# default setting\u001b[39;00m\n\u001b[0;32m---> 97\u001b[0m \u001b[38;5;28;43mself\u001b[39;49m\u001b[38;5;241;43m.\u001b[39;49m\u001b[43mrecalc_orbit_visu\u001b[49m\u001b[43m(\u001b[49m\u001b[38;5;28;43mself\u001b[39;49m\u001b[38;5;241;43m.\u001b[39;49m\u001b[43mt0\u001b[49m\u001b[43m,\u001b[49m\u001b[43m \u001b[49m\u001b[38;5;28;43mself\u001b[39;49m\u001b[38;5;241;43m.\u001b[39;49m\u001b[43mt0\u001b[49m\u001b[38;5;241;43m+\u001b[39;49m\u001b[38;5;28;43mself\u001b[39;49m\u001b[38;5;241;43m.\u001b[39;49m\u001b[43mT\u001b[49m\u001b[43m)\u001b[49m\n",
      "File \u001b[0;32m~/Python/KSP/KSP_module/main.py:220\u001b[0m, in \u001b[0;36morbit.recalc_orbit_visu\u001b[0;34m(self, start_time, end_time)\u001b[0m\n\u001b[1;32m    218\u001b[0m \u001b[38;5;250m\u001b[39m\u001b[38;5;124;03m\"\"\"function to recalculate orbit for visualization\"\"\"\u001b[39;00m\n\u001b[1;32m    219\u001b[0m \u001b[38;5;28mself\u001b[39m\u001b[38;5;241m.\u001b[39mt \u001b[38;5;241m=\u001b[39m np\u001b[38;5;241m.\u001b[39mlinspace(start_time, end_time, \u001b[38;5;241m100\u001b[39m)\n\u001b[0;32m--> 220\u001b[0m \u001b[38;5;28mself\u001b[39m\u001b[38;5;241m.\u001b[39mr, \u001b[38;5;28mself\u001b[39m\u001b[38;5;241m.\u001b[39mphi \u001b[38;5;241m=\u001b[39m \u001b[38;5;28;43mself\u001b[39;49m\u001b[38;5;241;43m.\u001b[39;49m\u001b[43mcalc_polar\u001b[49m\u001b[43m(\u001b[49m\u001b[38;5;28;43mself\u001b[39;49m\u001b[38;5;241;43m.\u001b[39;49m\u001b[43mt\u001b[49m\u001b[43m)\u001b[49m\n",
      "File \u001b[0;32m~/Python/KSP/KSP_module/main.py:197\u001b[0m, in \u001b[0;36morbit.calc_polar\u001b[0;34m(self, time)\u001b[0m\n\u001b[1;32m    195\u001b[0m \u001b[38;5;28;01mdef\u001b[39;00m \u001b[38;5;21mcalc_polar\u001b[39m(\u001b[38;5;28mself\u001b[39m, time):\n\u001b[1;32m    196\u001b[0m \u001b[38;5;250m    \u001b[39m\u001b[38;5;124;03m\"\"\"function to calculate both orbital distance and angle wrt reference angle\"\"\"\u001b[39;00m\n\u001b[0;32m--> 197\u001b[0m     nu \u001b[38;5;241m=\u001b[39m \u001b[38;5;28;43mself\u001b[39;49m\u001b[38;5;241;43m.\u001b[39;49m\u001b[43mcalc_true_anomaly\u001b[49m\u001b[43m(\u001b[49m\u001b[43mtime\u001b[49m\u001b[43m)\u001b[49m\n\u001b[1;32m    198\u001b[0m     phi \u001b[38;5;241m=\u001b[39m \u001b[38;5;28mself\u001b[39m\u001b[38;5;241m.\u001b[39mOMEGA_projected \u001b[38;5;241m+\u001b[39m \u001b[38;5;28mself\u001b[39m\u001b[38;5;241m.\u001b[39momega \u001b[38;5;241m+\u001b[39m nu\n\u001b[1;32m    199\u001b[0m     r \u001b[38;5;241m=\u001b[39m \u001b[38;5;28mself\u001b[39m\u001b[38;5;241m.\u001b[39ma\u001b[38;5;241m*\u001b[39m(\u001b[38;5;241m1\u001b[39m\u001b[38;5;241m-\u001b[39m\u001b[38;5;28mself\u001b[39m\u001b[38;5;241m.\u001b[39me\u001b[38;5;241m*\u001b[39m\u001b[38;5;28mself\u001b[39m\u001b[38;5;241m.\u001b[39me)\u001b[38;5;241m/\u001b[39m(\u001b[38;5;241m1\u001b[39m\u001b[38;5;241m+\u001b[39m\u001b[38;5;28mself\u001b[39m\u001b[38;5;241m.\u001b[39me\u001b[38;5;241m*\u001b[39mnp\u001b[38;5;241m.\u001b[39mcos(nu))\n",
      "File \u001b[0;32m~/Python/KSP/KSP_module/main.py:191\u001b[0m, in \u001b[0;36morbit.calc_true_anomaly\u001b[0;34m(self, time)\u001b[0m\n\u001b[1;32m    190\u001b[0m \u001b[38;5;28;01mdef\u001b[39;00m \u001b[38;5;21mcalc_true_anomaly\u001b[39m(\u001b[38;5;28mself\u001b[39m, time):\n\u001b[0;32m--> 191\u001b[0m     E \u001b[38;5;241m=\u001b[39m \u001b[38;5;28;43mself\u001b[39;49m\u001b[38;5;241;43m.\u001b[39;49m\u001b[43mcalc_eccentric_anomaly\u001b[49m\u001b[43m(\u001b[49m\u001b[43mtime\u001b[49m\u001b[43m)\u001b[49m\n\u001b[1;32m    192\u001b[0m     beta \u001b[38;5;241m=\u001b[39m \u001b[38;5;28mself\u001b[39m\u001b[38;5;241m.\u001b[39me\u001b[38;5;241m/\u001b[39m(\u001b[38;5;241m1\u001b[39m\u001b[38;5;241m+\u001b[39mnp\u001b[38;5;241m.\u001b[39msqrt(\u001b[38;5;241m1\u001b[39m\u001b[38;5;241m-\u001b[39m\u001b[38;5;28mself\u001b[39m\u001b[38;5;241m.\u001b[39me\u001b[38;5;241m*\u001b[39m\u001b[38;5;28mself\u001b[39m\u001b[38;5;241m.\u001b[39me))\n\u001b[1;32m    193\u001b[0m     \u001b[38;5;28;01mreturn\u001b[39;00m E \u001b[38;5;241m+\u001b[39m \u001b[38;5;241m2\u001b[39m\u001b[38;5;241m*\u001b[39mnp\u001b[38;5;241m.\u001b[39marctan( beta\u001b[38;5;241m*\u001b[39mnp\u001b[38;5;241m.\u001b[39msin(E) \u001b[38;5;241m/\u001b[39m (\u001b[38;5;241m1\u001b[39m\u001b[38;5;241m-\u001b[39mbeta\u001b[38;5;241m*\u001b[39mnp\u001b[38;5;241m.\u001b[39mcos(E)) )\n",
      "File \u001b[0;32m~/Python/KSP/KSP_module/main.py:187\u001b[0m, in \u001b[0;36morbit.calc_eccentric_anomaly\u001b[0;34m(self, time)\u001b[0m\n\u001b[1;32m    185\u001b[0m     E_old \u001b[38;5;241m=\u001b[39m E\n\u001b[1;32m    186\u001b[0m     E \u001b[38;5;241m=\u001b[39m E \u001b[38;5;241m-\u001b[39m f(E,M,\u001b[38;5;28mself\u001b[39m\u001b[38;5;241m.\u001b[39me)\u001b[38;5;241m/\u001b[39mdfdE(E,M,\u001b[38;5;28mself\u001b[39m\u001b[38;5;241m.\u001b[39me)\n\u001b[0;32m--> 187\u001b[0m     max_delta \u001b[38;5;241m=\u001b[39m \u001b[43mnp\u001b[49m\u001b[38;5;241;43m.\u001b[39;49m\u001b[43mmax\u001b[49m\u001b[43m(\u001b[49m\u001b[43mnp\u001b[49m\u001b[38;5;241;43m.\u001b[39;49m\u001b[43mabs\u001b[49m\u001b[43m(\u001b[49m\u001b[43mE_old\u001b[49m\u001b[43m \u001b[49m\u001b[38;5;241;43m-\u001b[39;49m\u001b[43m \u001b[49m\u001b[43mE\u001b[49m\u001b[43m)\u001b[49m\u001b[43m)\u001b[49m\n\u001b[1;32m    188\u001b[0m \u001b[38;5;28;01mreturn\u001b[39;00m E\n",
      "File \u001b[0;32m~/Python/313/lib/python3.13/site-packages/numpy/_core/fromnumeric.py:3075\u001b[0m, in \u001b[0;36m_max_dispatcher\u001b[0;34m(a, axis, out, keepdims, initial, where)\u001b[0m\n\u001b[1;32m   3071\u001b[0m         kwargs[\u001b[38;5;124m'\u001b[39m\u001b[38;5;124mkeepdims\u001b[39m\u001b[38;5;124m'\u001b[39m] \u001b[38;5;241m=\u001b[39m keepdims\n\u001b[1;32m   3072\u001b[0m     \u001b[38;5;28;01mreturn\u001b[39;00m _methods\u001b[38;5;241m.\u001b[39m_ptp(a, axis\u001b[38;5;241m=\u001b[39maxis, out\u001b[38;5;241m=\u001b[39mout, \u001b[38;5;241m*\u001b[39m\u001b[38;5;241m*\u001b[39mkwargs)\n\u001b[0;32m-> 3075\u001b[0m \u001b[38;5;28;01mdef\u001b[39;00m \u001b[38;5;21m_max_dispatcher\u001b[39m(a, axis\u001b[38;5;241m=\u001b[39m\u001b[38;5;28;01mNone\u001b[39;00m, out\u001b[38;5;241m=\u001b[39m\u001b[38;5;28;01mNone\u001b[39;00m, keepdims\u001b[38;5;241m=\u001b[39m\u001b[38;5;28;01mNone\u001b[39;00m, initial\u001b[38;5;241m=\u001b[39m\u001b[38;5;28;01mNone\u001b[39;00m,\n\u001b[1;32m   3076\u001b[0m                     where\u001b[38;5;241m=\u001b[39m\u001b[38;5;28;01mNone\u001b[39;00m):\n\u001b[1;32m   3077\u001b[0m     \u001b[38;5;28;01mreturn\u001b[39;00m (a, out)\n\u001b[1;32m   3080\u001b[0m \u001b[38;5;129m@array_function_dispatch\u001b[39m(_max_dispatcher)\n\u001b[1;32m   3081\u001b[0m \u001b[38;5;129m@set_module\u001b[39m(\u001b[38;5;124m'\u001b[39m\u001b[38;5;124mnumpy\u001b[39m\u001b[38;5;124m'\u001b[39m)\n\u001b[1;32m   3082\u001b[0m \u001b[38;5;28;01mdef\u001b[39;00m \u001b[38;5;21mmax\u001b[39m(a, axis\u001b[38;5;241m=\u001b[39m\u001b[38;5;28;01mNone\u001b[39;00m, out\u001b[38;5;241m=\u001b[39m\u001b[38;5;28;01mNone\u001b[39;00m, keepdims\u001b[38;5;241m=\u001b[39mnp\u001b[38;5;241m.\u001b[39m_NoValue, initial\u001b[38;5;241m=\u001b[39mnp\u001b[38;5;241m.\u001b[39m_NoValue,\n\u001b[1;32m   3083\u001b[0m          where\u001b[38;5;241m=\u001b[39mnp\u001b[38;5;241m.\u001b[39m_NoValue):\n",
      "\u001b[0;31mKeyboardInterrupt\u001b[0m: "
     ]
    }
   ],
   "source": [
    "import KSP_module as ksp"
   ]
  },
  {
   "cell_type": "code",
   "execution_count": null,
   "metadata": {},
   "outputs": [],
   "source": []
  }
 ],
 "metadata": {
  "kernelspec": {
   "display_name": "313",
   "language": "python",
   "name": "python3"
  },
  "language_info": {
   "codemirror_mode": {
    "name": "ipython",
    "version": 3
   },
   "file_extension": ".py",
   "mimetype": "text/x-python",
   "name": "python",
   "nbconvert_exporter": "python",
   "pygments_lexer": "ipython3",
   "version": "3.13.0"
  }
 },
 "nbformat": 4,
 "nbformat_minor": 2
}
