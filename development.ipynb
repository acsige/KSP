{
 "cells": [
  {
   "cell_type": "code",
   "execution_count": null,
   "metadata": {},
   "outputs": [],
   "source": [
    "import numpy as np\n",
    "import matplotlib.pyplot as plt\n",
    "import KSP_module as ksp\n",
    "from KSP_module import Kerbol, Kerbin, Duna, Eve, Mun, Minmus\n",
    "\n",
    "HKO = ksp.orbit(Kerbin, min_alt = 70000.1, e=0.99)\n",
    "t_leave = HKO.calc_soi_leave_time(0)\n",
    "\n",
    "fig,ax = ksp.initialize_plot()\n",
    "ax = ksp.add_soi_to_plot(ax, Kerbin, 0, True, True)\n",
    "ax = ksp.add_orbit_to_plot(ax, HKO)\n",
    "ax = ksp.add_orbit_point_to_plot(ax, HKO, t_leave)\n",
    "print(HKO.primary.soi - HKO.calc_polar(t_leave)[0])"
   ]
  },
  {
   "cell_type": "code",
   "execution_count": null,
   "metadata": {},
   "outputs": [],
   "source": [
    "LKO = ksp.orbit(Kerbin, min_alt = 70000.1, e=0)\n",
    "transfer3 = ksp.calc_window(LKO, Mun.orbit, 0)\n",
    "fig,ax = ksp.plot_hohmann_orbit(LKO, Mun, transfer3)\n",
    "\n",
    "t_soi, new_primary = LKO.calc_soi_change(transfer3.t_launch)\n",
    "\n",
    "print(transfer3.t_launch)\n",
    "ax = ksp.add_soi_to_plot(ax, Mun, t_soi)\n",
    "ax = ksp.add_planetary_body_to_plot(ax, Mun, transfer3.t_launch)\n",
    "ax = ksp.add_planetary_body_to_plot(ax, Kerbin, transfer3.t_launch, True)\n",
    "plt.show()\n",
    "print([ksp.pretty_date(transfer3.t_launch), transfer3.t_launch])"
   ]
  },
  {
   "cell_type": "code",
   "execution_count": null,
   "metadata": {},
   "outputs": [],
   "source": [
    "def calc_soi_change(self, t_start):\n",
    "    \"\"\"Calculate the time of SOI change and the new primary\n",
    "    Args:\n",
    "        t0: start time of calculation\n",
    "    Returns:\n",
    "        t_change: time of SOI change\n",
    "        new_primary: new primary body\"\"\"\n",
    "    \n",
    "    # if the orbit is  hyperbolic or highly eccentric, \n",
    "    # calculate time when leaving primary SOI \n",
    "    if self.check_hyperbolic() or self.ra > self.primary.soi:\n",
    "        t_end = t_start + self.calc_soi_leave_time()\n",
    "    # if elliptic and fully inside SOI, calc is for one orbit starting at t0\n",
    "    else:\n",
    "        t_end = t_start + self.T\n",
    "    \n",
    "    # calculate minimum distance to all secondaries during transit time\n",
    "    closest_secondary = None\n",
    "    t_soi_change = t_end\n",
    "    for secondary in self.primary.secondaries:\n",
    "        t_min,d_min = self.calc_min_distance(secondary, t_start, t_end)\n",
    "        if d_min < secondary.soi:\n",
    "            t_soi, d_soi = self.calc_soi_enter(secondary, t_start, t_min)\n",
    "            if t_soi < t_soi_change:\n",
    "                t_soi_change = t_soi\n",
    "                closest_secondary = secondary\n",
    "    return t_soi_change, closest_secondary\n",
    "\n",
    "def calc_soi_enter(self, secondary, t_start, t_min):\n",
    "    \"\"\"Calculate the time of entering a secondary's SOI\n",
    "    Args:\n",
    "        secondary: secondary body\n",
    "        t_start: start time of calculation\n",
    "        t_min: time of minimum distance to secondary\n",
    "    Returns:\n",
    "        t_soi: time of SOI change\n",
    "    \"\"\"\n",
    "    \n",
    "    t1 = t_start\n",
    "    t2 = t_min\n",
    "    while abs(t2-t1) > 1:\n",
    "        t = (t1 + t2)/2\n",
    "        if self.calc_distance_to(secondary, t) < secondary.soi:\n",
    "            t2 = t\n",
    "        else:\n",
    "            t1 = t\n",
    "    return t\n"
   ]
  },
  {
   "cell_type": "code",
   "execution_count": null,
   "metadata": {},
   "outputs": [],
   "source": []
  },
  {
   "cell_type": "markdown",
   "metadata": {},
   "source": []
  },
  {
   "cell_type": "code",
   "execution_count": 1,
   "metadata": {},
   "outputs": [
    {
     "name": "stdout",
     "output_type": "stream",
     "text": [
      "KSP module loaded\n",
      "All tests passed\n"
     ]
    }
   ],
   "source": [
    "import KSP_module as ksp"
   ]
  },
  {
   "cell_type": "code",
   "execution_count": null,
   "metadata": {},
   "outputs": [],
   "source": []
  }
 ],
 "metadata": {
  "kernelspec": {
   "display_name": "313",
   "language": "python",
   "name": "python3"
  },
  "language_info": {
   "codemirror_mode": {
    "name": "ipython",
    "version": 3
   },
   "file_extension": ".py",
   "mimetype": "text/x-python",
   "name": "python",
   "nbconvert_exporter": "python",
   "pygments_lexer": "ipython3",
   "version": "3.13.0"
  }
 },
 "nbformat": 4,
 "nbformat_minor": 2
}
