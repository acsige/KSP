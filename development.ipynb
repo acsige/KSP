{
 "cells": [
  {
   "cell_type": "code",
   "execution_count": null,
   "metadata": {},
   "outputs": [],
   "source": [
    "import numpy as np\n",
    "import matplotlib.pyplot as plt\n",
    "import KSP_module as ksp\n",
    "from KSP_module import Kerbol, Kerbin, Duna, Eve, Mun, Minmus\n",
    "\n",
    "HKO = ksp.orbit(Kerbin, min_alt = 70000.1, e=0.99)\n",
    "t_leave = HKO.calc_soi_leave_time(0)\n",
    "\n",
    "fig,ax = ksp.initialize_plot()\n",
    "ax = ksp.add_soi_to_plot(ax, Kerbin, 0, True, True)\n",
    "ax = ksp.add_orbit_to_plot(ax, HKO)\n",
    "ax = ksp.add_orbit_point_to_plot(ax, HKO, t_leave)\n",
    "print(HKO.primary.soi - HKO.calc_polar(t_leave)[0])"
   ]
  },
  {
   "cell_type": "code",
   "execution_count": null,
   "metadata": {},
   "outputs": [],
   "source": [
    "LKO = ksp.orbit(Kerbin, min_alt = 70000.1, e=0)\n",
    "transfer3 = ksp.calc_window(LKO, Mun.orbit, 0)\n",
    "fig,ax = ksp.plot_hohmann_orbit(LKO, Mun, transfer3)\n",
    "\n",
    "t_soi, new_primary = LKO.calc_soi_change(transfer3.t_launch)\n",
    "\n",
    "print(transfer3.t_launch)\n",
    "ax = ksp.add_soi_to_plot(ax, Mun, t_soi)\n",
    "ax = ksp.add_planetary_body_to_plot(ax, Mun, transfer3.t_launch)\n",
    "ax = ksp.add_planetary_body_to_plot(ax, Kerbin, transfer3.t_launch, True)\n",
    "plt.show()\n",
    "print([ksp.pretty_date(transfer3.t_launch), transfer3.t_launch])"
   ]
  },
  {
   "cell_type": "markdown",
   "metadata": {},
   "source": []
  },
  {
   "cell_type": "code",
   "execution_count": 1,
   "metadata": {},
   "outputs": [
    {
     "name": "stdout",
     "output_type": "stream",
     "text": [
      "KSP module loaded\n",
      "All tests passed\n"
     ]
    }
   ],
   "source": [
    "import KSP_module as ksp\n",
    "from KSP_module import Kerbol, Kerbin, Duna, Eve, Mun, Minmus, Moho, Jool, Dres\n",
    "transfer = ksp.calc_window(Kerbin.orbit, Duna.orbit, 0)"
   ]
  },
  {
   "cell_type": "code",
   "execution_count": 3,
   "metadata": {},
   "outputs": [
    {
     "data": {
      "text/plain": [
       "Kerbol"
      ]
     },
     "execution_count": 3,
     "metadata": {},
     "output_type": "execute_result"
    }
   ],
   "source": [
    "transfer.dst_body"
   ]
  },
  {
   "cell_type": "code",
   "execution_count": null,
   "metadata": {},
   "outputs": [
    {
     "name": "stdout",
     "output_type": "stream",
     "text": [
      "1052.282848202633\n"
     ]
    },
    {
     "ename": "AssertionError",
     "evalue": "\nArrays are not almost equal to 10 decimals\n\nMismatched elements: 2 / 2 (100%)\nMax absolute difference among violations: 66741.75869751\nMax relative difference among violations: 1.01969442e-05\n ACTUAL: array([-1.9121476021e+10, -6.5452037998e+09])\n DESIRED: array([-1.9121454631e+10, -6.5452705415e+09])",
     "output_type": "error",
     "traceback": [
      "\u001b[0;31m---------------------------------------------------------------------------\u001b[0m",
      "\u001b[0;31mAssertionError\u001b[0m                            Traceback (most recent call last)",
      "Cell \u001b[0;32mIn[34], line 50\u001b[0m\n\u001b[1;32m     48\u001b[0m \u001b[38;5;28mprint\u001b[39m(calc_hohmann_dv(LKO, transfer))\n\u001b[1;32m     49\u001b[0m LDO \u001b[38;5;241m=\u001b[39m ksp\u001b[38;5;241m.\u001b[39morbit(Duna, min_alt \u001b[38;5;241m=\u001b[39m Duna\u001b[38;5;241m.\u001b[39matmo_height\u001b[38;5;241m+\u001b[39m\u001b[38;5;241m0.1\u001b[39m, e\u001b[38;5;241m=\u001b[39m\u001b[38;5;241m0\u001b[39m)\n\u001b[0;32m---> 50\u001b[0m \u001b[38;5;28mprint\u001b[39m(\u001b[43mcalc_hohmann_dv\u001b[49m\u001b[43m(\u001b[49m\u001b[43mtransfer\u001b[49m\u001b[43m,\u001b[49m\u001b[43m \u001b[49m\u001b[43mLDO\u001b[49m\u001b[43m)\u001b[49m)\n\u001b[1;32m     52\u001b[0m calc_hohmann_dv(LKO, LKO)\n",
      "Cell \u001b[0;32mIn[34], line 32\u001b[0m, in \u001b[0;36mcalc_hohmann_dv\u001b[0;34m(src_orbit, dst_orbit)\u001b[0m\n\u001b[1;32m     30\u001b[0m parking_p0 \u001b[38;5;241m=\u001b[39m parking_body\u001b[38;5;241m.\u001b[39morbit\u001b[38;5;241m.\u001b[39mcalc_xyz(t_calc)\n\u001b[1;32m     31\u001b[0m hohmann_p0 \u001b[38;5;241m=\u001b[39m hohmann_orbit\u001b[38;5;241m.\u001b[39mcalc_xyz(t_calc)\n\u001b[0;32m---> 32\u001b[0m \u001b[43mnp\u001b[49m\u001b[38;5;241;43m.\u001b[39;49m\u001b[43mtesting\u001b[49m\u001b[38;5;241;43m.\u001b[39;49m\u001b[43massert_almost_equal\u001b[49m\u001b[43m(\u001b[49m\u001b[43mparking_p0\u001b[49m\u001b[43m[\u001b[49m\u001b[43m:\u001b[49m\u001b[38;5;241;43m2\u001b[39;49m\u001b[43m]\u001b[49m\u001b[43m,\u001b[49m\u001b[43m \u001b[49m\u001b[43mhohmann_p0\u001b[49m\u001b[43m[\u001b[49m\u001b[43m:\u001b[49m\u001b[38;5;241;43m2\u001b[39;49m\u001b[43m]\u001b[49m\u001b[43m,\u001b[49m\u001b[43m \u001b[49m\u001b[43mdecimal\u001b[49m\u001b[38;5;241;43m=\u001b[39;49m\u001b[38;5;241;43m10\u001b[39;49m\u001b[43m,\u001b[49m\u001b[43m \u001b[49m\u001b[43merr_msg\u001b[49m\u001b[38;5;241;43m=\u001b[39;49m\u001b[38;5;124;43m'\u001b[39;49m\u001b[38;5;124;43m'\u001b[39;49m\u001b[43m,\u001b[49m\u001b[43m \u001b[49m\u001b[43mverbose\u001b[49m\u001b[38;5;241;43m=\u001b[39;49m\u001b[38;5;28;43;01mTrue\u001b[39;49;00m\u001b[43m)\u001b[49m,\\\n\u001b[1;32m     33\u001b[0m     \u001b[38;5;124m'\u001b[39m\u001b[38;5;124mParking orbit and Hohmann orbit must be at the same x,y position either at launch or arrival\u001b[39m\u001b[38;5;124m'\u001b[39m\n\u001b[1;32m     35\u001b[0m \u001b[38;5;66;03m# calculate dv to/from Hohmann orbit, relative to the primary body of the parking orbit\u001b[39;00m\n\u001b[1;32m     36\u001b[0m \u001b[38;5;66;03m# this is the speed when leaving/entering the SOI\u001b[39;00m\n\u001b[1;32m     37\u001b[0m v_soi \u001b[38;5;241m=\u001b[39m \u001b[38;5;28mabs\u001b[39m(hohmann_orbit\u001b[38;5;241m.\u001b[39mcalc_speed(t_calc) \u001b[38;5;241m-\u001b[39m parking_body\u001b[38;5;241m.\u001b[39morbit\u001b[38;5;241m.\u001b[39mcalc_speed(t_calc))\n",
      "File \u001b[0;32m/Library/Frameworks/Python.framework/Versions/3.13/lib/python3.13/contextlib.py:85\u001b[0m, in \u001b[0;36mContextDecorator.__call__.<locals>.inner\u001b[0;34m(*args, **kwds)\u001b[0m\n\u001b[1;32m     82\u001b[0m \u001b[38;5;129m@wraps\u001b[39m(func)\n\u001b[1;32m     83\u001b[0m \u001b[38;5;28;01mdef\u001b[39;00m \u001b[38;5;21minner\u001b[39m(\u001b[38;5;241m*\u001b[39margs, \u001b[38;5;241m*\u001b[39m\u001b[38;5;241m*\u001b[39mkwds):\n\u001b[1;32m     84\u001b[0m     \u001b[38;5;28;01mwith\u001b[39;00m \u001b[38;5;28mself\u001b[39m\u001b[38;5;241m.\u001b[39m_recreate_cm():\n\u001b[0;32m---> 85\u001b[0m         \u001b[38;5;28;01mreturn\u001b[39;00m \u001b[43mfunc\u001b[49m\u001b[43m(\u001b[49m\u001b[38;5;241;43m*\u001b[39;49m\u001b[43margs\u001b[49m\u001b[43m,\u001b[49m\u001b[43m \u001b[49m\u001b[38;5;241;43m*\u001b[39;49m\u001b[38;5;241;43m*\u001b[39;49m\u001b[43mkwds\u001b[49m\u001b[43m)\u001b[49m\n",
      "    \u001b[0;31m[... skipping hidden 1 frame]\u001b[0m\n",
      "File \u001b[0;32m/Library/Frameworks/Python.framework/Versions/3.13/lib/python3.13/contextlib.py:85\u001b[0m, in \u001b[0;36mContextDecorator.__call__.<locals>.inner\u001b[0;34m(*args, **kwds)\u001b[0m\n\u001b[1;32m     82\u001b[0m \u001b[38;5;129m@wraps\u001b[39m(func)\n\u001b[1;32m     83\u001b[0m \u001b[38;5;28;01mdef\u001b[39;00m \u001b[38;5;21minner\u001b[39m(\u001b[38;5;241m*\u001b[39margs, \u001b[38;5;241m*\u001b[39m\u001b[38;5;241m*\u001b[39mkwds):\n\u001b[1;32m     84\u001b[0m     \u001b[38;5;28;01mwith\u001b[39;00m \u001b[38;5;28mself\u001b[39m\u001b[38;5;241m.\u001b[39m_recreate_cm():\n\u001b[0;32m---> 85\u001b[0m         \u001b[38;5;28;01mreturn\u001b[39;00m \u001b[43mfunc\u001b[49m\u001b[43m(\u001b[49m\u001b[38;5;241;43m*\u001b[39;49m\u001b[43margs\u001b[49m\u001b[43m,\u001b[49m\u001b[43m \u001b[49m\u001b[38;5;241;43m*\u001b[39;49m\u001b[38;5;241;43m*\u001b[39;49m\u001b[43mkwds\u001b[49m\u001b[43m)\u001b[49m\n",
      "File \u001b[0;32m~/Python/313/lib/python3.13/site-packages/numpy/_utils/__init__.py:85\u001b[0m, in \u001b[0;36m_rename_parameter.<locals>.decorator.<locals>.wrapper\u001b[0;34m(*args, **kwargs)\u001b[0m\n\u001b[1;32m     83\u001b[0m             \u001b[38;5;28;01mraise\u001b[39;00m \u001b[38;5;167;01mTypeError\u001b[39;00m(msg)\n\u001b[1;32m     84\u001b[0m         kwargs[new_name] \u001b[38;5;241m=\u001b[39m kwargs\u001b[38;5;241m.\u001b[39mpop(old_name)\n\u001b[0;32m---> 85\u001b[0m \u001b[38;5;28;01mreturn\u001b[39;00m \u001b[43mfun\u001b[49m\u001b[43m(\u001b[49m\u001b[38;5;241;43m*\u001b[39;49m\u001b[43margs\u001b[49m\u001b[43m,\u001b[49m\u001b[43m \u001b[49m\u001b[38;5;241;43m*\u001b[39;49m\u001b[38;5;241;43m*\u001b[39;49m\u001b[43mkwargs\u001b[49m\u001b[43m)\u001b[49m\n",
      "    \u001b[0;31m[... skipping hidden 1 frame]\u001b[0m\n",
      "File \u001b[0;32m/Library/Frameworks/Python.framework/Versions/3.13/lib/python3.13/contextlib.py:85\u001b[0m, in \u001b[0;36mContextDecorator.__call__.<locals>.inner\u001b[0;34m(*args, **kwds)\u001b[0m\n\u001b[1;32m     82\u001b[0m \u001b[38;5;129m@wraps\u001b[39m(func)\n\u001b[1;32m     83\u001b[0m \u001b[38;5;28;01mdef\u001b[39;00m \u001b[38;5;21minner\u001b[39m(\u001b[38;5;241m*\u001b[39margs, \u001b[38;5;241m*\u001b[39m\u001b[38;5;241m*\u001b[39mkwds):\n\u001b[1;32m     84\u001b[0m     \u001b[38;5;28;01mwith\u001b[39;00m \u001b[38;5;28mself\u001b[39m\u001b[38;5;241m.\u001b[39m_recreate_cm():\n\u001b[0;32m---> 85\u001b[0m         \u001b[38;5;28;01mreturn\u001b[39;00m \u001b[43mfunc\u001b[49m\u001b[43m(\u001b[49m\u001b[38;5;241;43m*\u001b[39;49m\u001b[43margs\u001b[49m\u001b[43m,\u001b[49m\u001b[43m \u001b[49m\u001b[38;5;241;43m*\u001b[39;49m\u001b[38;5;241;43m*\u001b[39;49m\u001b[43mkwds\u001b[49m\u001b[43m)\u001b[49m\n",
      "File \u001b[0;32m~/Python/313/lib/python3.13/site-packages/numpy/testing/_private/utils.py:889\u001b[0m, in \u001b[0;36massert_array_compare\u001b[0;34m(comparison, x, y, err_msg, verbose, header, precision, equal_nan, equal_inf, strict, names)\u001b[0m\n\u001b[1;32m    884\u001b[0m         err_msg \u001b[38;5;241m+\u001b[39m\u001b[38;5;241m=\u001b[39m \u001b[38;5;124m'\u001b[39m\u001b[38;5;130;01m\\n\u001b[39;00m\u001b[38;5;124m'\u001b[39m \u001b[38;5;241m+\u001b[39m \u001b[38;5;124m'\u001b[39m\u001b[38;5;130;01m\\n\u001b[39;00m\u001b[38;5;124m'\u001b[39m\u001b[38;5;241m.\u001b[39mjoin(remarks)\n\u001b[1;32m    885\u001b[0m         msg \u001b[38;5;241m=\u001b[39m build_err_msg([ox, oy], err_msg,\n\u001b[1;32m    886\u001b[0m                             verbose\u001b[38;5;241m=\u001b[39mverbose, header\u001b[38;5;241m=\u001b[39mheader,\n\u001b[1;32m    887\u001b[0m                             names\u001b[38;5;241m=\u001b[39mnames,\n\u001b[1;32m    888\u001b[0m                             precision\u001b[38;5;241m=\u001b[39mprecision)\n\u001b[0;32m--> 889\u001b[0m         \u001b[38;5;28;01mraise\u001b[39;00m \u001b[38;5;167;01mAssertionError\u001b[39;00m(msg)\n\u001b[1;32m    890\u001b[0m \u001b[38;5;28;01mexcept\u001b[39;00m \u001b[38;5;167;01mValueError\u001b[39;00m:\n\u001b[1;32m    891\u001b[0m     \u001b[38;5;28;01mimport\u001b[39;00m \u001b[38;5;21;01mtraceback\u001b[39;00m\n",
      "\u001b[0;31mAssertionError\u001b[0m: \nArrays are not almost equal to 10 decimals\n\nMismatched elements: 2 / 2 (100%)\nMax absolute difference among violations: 66741.75869751\nMax relative difference among violations: 1.01969442e-05\n ACTUAL: array([-1.9121476021e+10, -6.5452037998e+09])\n DESIRED: array([-1.9121454631e+10, -6.5452705415e+09])"
     ]
    }
   ],
   "source": [
    "from math import sqrt\n",
    "\n",
    "def calc_hohmann_dv(src_orbit, dst_orbit):\n",
    "    \"\"\"Calculate delta-v for Hohmann escape or capture, eg. from/to LKO\"\"\"\n",
    "    \n",
    "    # either source or destination must be a Hohmann orbit (exactly one)\n",
    "    assert(src_orbit.is_hohmann ^ dst_orbit.is_hohmann), 'Exactly one orbit must be a Hohmann orbit'\n",
    "    # chack which one is which\n",
    "    if src_orbit.is_hohmann:\n",
    "        hohmann_orbit = src_orbit\n",
    "        parking_orbit = dst_orbit\n",
    "        is_capture = True\n",
    "        # this is to check that the destination and the Hohmann orbit are at the same position\n",
    "        # at the time of arrival, and calculate the dv\n",
    "        t_calc = hohmann_orbit.t_arrival\n",
    "    else:\n",
    "        hohmann_orbit = dst_orbit\n",
    "        parking_orbit = src_orbit\n",
    "        is_capture = False\n",
    "        # this is to check that the source and the Hohmann orbit are at the same position\n",
    "        # at the time of launch, and calculate the dv\n",
    "        t_calc = hohmann_orbit.t_launch\n",
    "\n",
    "    # parking is around a body orbiting the same primary as the Hohmann orbit\n",
    "    parking_body = parking_orbit.primary\n",
    "    assert(parking_body.orbit.primary == hohmann_orbit.primary),\\\n",
    "        'Parking orbit must be around a body orbiting the same primary as the Hohmann orbit'\n",
    "    \n",
    "    # check that the two orbits are plausible\n",
    "    parking_p0 = parking_body.orbit.calc_xyz(t_calc)\n",
    "    hohmann_p0 = hohmann_orbit.calc_xyz(t_calc)\n",
    "    # np.testing.assert_almost_equal(parking_p0[:2], hohmann_p0[:2], decimal=10, err_msg='', verbose=True),\\\n",
    "    #     'Parking orbit and Hohmann orbit must be at similar x,y position either at launch or arrival'\n",
    "    \n",
    "    # calculate dv to/from Hohmann orbit, relative to the primary body of the parking orbit\n",
    "    # this is the speed when leaving/entering the SOI\n",
    "    v_soi = abs(hohmann_orbit.calc_speed(t_calc) - parking_body.orbit.calc_speed(t_calc))\n",
    "    r_soi = parking_body.soi\n",
    "\n",
    "    v_parking = parking_orbit.calc_speed(t_calc)\n",
    "    r_parking = parking_orbit.a\n",
    "    \n",
    "    # calculate speed at parking orbit height using vis-viva equation\n",
    "    GM = parking_body.GM\n",
    "    v_hohmann_at_parking = sqrt(v_soi**2 + 2*GM/r_parking - 2*GM/r_soi)\n",
    "    return v_hohmann_at_parking - v_parking\n",
    "\n",
    "print(calc_hohmann_dv(LKO, transfer))\n",
    "LDO = ksp.orbit(Duna, min_alt = Duna.atmo_height+0.1, e=0)\n",
    "print(calc_hohmann_dv(transfer, LDO))\n",
    "\n",
    "calc_hohmann_dv(LKO, LKO)"
   ]
  },
  {
   "cell_type": "code",
   "execution_count": 8,
   "metadata": {},
   "outputs": [],
   "source": [
    "import numpy as np"
   ]
  },
  {
   "cell_type": "code",
   "execution_count": null,
   "metadata": {},
   "outputs": [],
   "source": []
  }
 ],
 "metadata": {
  "kernelspec": {
   "display_name": "313",
   "language": "python",
   "name": "python3"
  },
  "language_info": {
   "codemirror_mode": {
    "name": "ipython",
    "version": 3
   },
   "file_extension": ".py",
   "mimetype": "text/x-python",
   "name": "python",
   "nbconvert_exporter": "python",
   "pygments_lexer": "ipython3",
   "version": "3.13.0"
  }
 },
 "nbformat": 4,
 "nbformat_minor": 2
}
